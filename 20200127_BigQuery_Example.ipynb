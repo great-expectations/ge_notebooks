{
 "cells": [
  {
   "cell_type": "code",
   "execution_count": 1,
   "metadata": {},
   "outputs": [],
   "source": [
    "import great_expectations as ge"
   ]
  },
  {
   "cell_type": "code",
   "execution_count": 2,
   "metadata": {},
   "outputs": [
    {
     "data": {
      "text/plain": [
       "'0.9.0b1+236.ga5f5f293.dirty'"
      ]
     },
     "execution_count": 2,
     "metadata": {},
     "output_type": "execute_result"
    }
   ],
   "source": [
    "ge.__version__"
   ]
  },
  {
   "cell_type": "code",
   "execution_count": 3,
   "metadata": {},
   "outputs": [],
   "source": [
    "import os\n",
    "import shutil"
   ]
  },
  {
   "cell_type": "code",
   "execution_count": 4,
   "metadata": {},
   "outputs": [],
   "source": [
    "project_dir = \"./contexts/big_query_demo\"\n",
    "shutil.rmtree(project_dir, ignore_errors=True)\n",
    "os.makedirs(project_dir)"
   ]
  },
  {
   "cell_type": "code",
   "execution_count": 5,
   "metadata": {},
   "outputs": [],
   "source": [
    "context = ge.data_context.DataContext.create(\"./contexts/big_query_demo\")"
   ]
  },
  {
   "cell_type": "code",
   "execution_count": 6,
   "metadata": {},
   "outputs": [],
   "source": [
    "# Set your BigQuery project here. You must have 'bigquery.jobs.create' permission in the relevant project\n",
    "# Note that you will be able to access additional data beyond what is in the project you specify\n",
    "project = 'superconductive-internal'\n",
    "\n",
    "# Set your BigQuery credentials; for example set GOOGLE_APPLICATION_CREDENTIALS environment variable to the location\n",
    "# of a credential json file\n",
    "datasource = context.add_datasource(\"bigquery\",\n",
    "                                    class_name=\"SqlAlchemyDatasource\", \n",
    "                                    connection_string='bigquery://' + project)"
   ]
  },
  {
   "cell_type": "code",
   "execution_count": 7,
   "metadata": {},
   "outputs": [
    {
     "data": {
      "text/plain": [
       "{\n",
       "  \"expectation_suite_name\": \"chicago_taxi.warning\",\n",
       "  \"data_asset_type\": null,\n",
       "  \"expectations\": [],\n",
       "  \"meta\": {\n",
       "    \"great_expectations.__version__\": \"0.9.0b1+236.ga5f5f293.dirty\"\n",
       "  }\n",
       "}"
      ]
     },
     "execution_count": 7,
     "metadata": {},
     "output_type": "execute_result"
    }
   ],
   "source": [
    "context.create_expectation_suite(\"chicago_taxi.warning\")"
   ]
  },
  {
   "cell_type": "code",
   "execution_count": 8,
   "metadata": {},
   "outputs": [],
   "source": [
    "batch_kwargs = {\n",
    "    \"datasource\": \"bigquery\",\n",
    "    # This is specifying the full path via the BigQuery project.dataset.table format\n",
    "    \"table\": \"bigquery-public-data.chicago_taxi_trips.taxi_trips\"  \n",
    "}"
   ]
  },
  {
   "cell_type": "code",
   "execution_count": 9,
   "metadata": {},
   "outputs": [],
   "source": [
    "batch = context.get_batch(batch_kwargs=batch_kwargs, expectation_suite_name=\"chicago_taxi.warning\")"
   ]
  },
  {
   "cell_type": "code",
   "execution_count": 14,
   "metadata": {},
   "outputs": [
    {
     "data": {
      "text/plain": [
       "[{'name': 'unique_key', 'type': String(), 'nullable': False, 'default': None},\n",
       " {'name': 'taxi_id', 'type': String(), 'nullable': False, 'default': None},\n",
       " {'name': 'trip_start_timestamp',\n",
       "  'type': TIMESTAMP(),\n",
       "  'nullable': True,\n",
       "  'default': None},\n",
       " {'name': 'trip_end_timestamp',\n",
       "  'type': TIMESTAMP(),\n",
       "  'nullable': True,\n",
       "  'default': None},\n",
       " {'name': 'trip_seconds',\n",
       "  'type': Integer(),\n",
       "  'nullable': True,\n",
       "  'default': None},\n",
       " {'name': 'trip_miles', 'type': Float(), 'nullable': True, 'default': None},\n",
       " {'name': 'pickup_census_tract',\n",
       "  'type': Integer(),\n",
       "  'nullable': True,\n",
       "  'default': None},\n",
       " {'name': 'dropoff_census_tract',\n",
       "  'type': Integer(),\n",
       "  'nullable': True,\n",
       "  'default': None},\n",
       " {'name': 'pickup_community_area',\n",
       "  'type': Integer(),\n",
       "  'nullable': True,\n",
       "  'default': None},\n",
       " {'name': 'dropoff_community_area',\n",
       "  'type': Integer(),\n",
       "  'nullable': True,\n",
       "  'default': None},\n",
       " {'name': 'fare', 'type': Float(), 'nullable': True, 'default': None},\n",
       " {'name': 'tips', 'type': Float(), 'nullable': True, 'default': None},\n",
       " {'name': 'tolls', 'type': Float(), 'nullable': True, 'default': None},\n",
       " {'name': 'extras', 'type': Float(), 'nullable': True, 'default': None},\n",
       " {'name': 'trip_total', 'type': Float(), 'nullable': True, 'default': None},\n",
       " {'name': 'payment_type', 'type': String(), 'nullable': True, 'default': None},\n",
       " {'name': 'company', 'type': String(), 'nullable': True, 'default': None},\n",
       " {'name': 'pickup_latitude',\n",
       "  'type': Float(),\n",
       "  'nullable': True,\n",
       "  'default': None},\n",
       " {'name': 'pickup_longitude',\n",
       "  'type': Float(),\n",
       "  'nullable': True,\n",
       "  'default': None},\n",
       " {'name': 'pickup_location',\n",
       "  'type': String(),\n",
       "  'nullable': True,\n",
       "  'default': None},\n",
       " {'name': 'dropoff_latitude',\n",
       "  'type': Float(),\n",
       "  'nullable': True,\n",
       "  'default': None},\n",
       " {'name': 'dropoff_longitude',\n",
       "  'type': Float(),\n",
       "  'nullable': True,\n",
       "  'default': None},\n",
       " {'name': 'dropoff_location',\n",
       "  'type': String(),\n",
       "  'nullable': True,\n",
       "  'default': None}]"
      ]
     },
     "execution_count": 14,
     "metadata": {},
     "output_type": "execute_result"
    }
   ],
   "source": [
    "# Notice that our Dataset exposes metadata for us\n",
    "batch.columns"
   ]
  },
  {
   "cell_type": "code",
   "execution_count": 11,
   "metadata": {},
   "outputs": [
    {
     "data": {
      "text/plain": [
       "{\n",
       "  \"expectation_config\": null,\n",
       "  \"exception_info\": null,\n",
       "  \"result\": {},\n",
       "  \"success\": true,\n",
       "  \"meta\": {}\n",
       "}"
      ]
     },
     "execution_count": 11,
     "metadata": {},
     "output_type": "execute_result"
    }
   ],
   "source": [
    "# And so we can create some expectations extremely quickly -- without running a query/job\n",
    "\n",
    "batch.expect_column_to_exist('trip_start_timestamp')"
   ]
  },
  {
   "cell_type": "code",
   "execution_count": 12,
   "metadata": {},
   "outputs": [
    {
     "data": {
      "text/plain": [
       "{\n",
       "  \"expectation_config\": null,\n",
       "  \"exception_info\": null,\n",
       "  \"result\": {\n",
       "    \"element_count\": 190955873,\n",
       "    \"missing_count\": 0,\n",
       "    \"missing_percent\": 0.0,\n",
       "    \"unexpected_count\": 190955873,\n",
       "    \"unexpected_percent\": 100.0,\n",
       "    \"unexpected_percent_nonmissing\": 100.0,\n",
       "    \"partial_unexpected_list\": [\n",
       "      \"2019-03-23T21:30:00+00:00\",\n",
       "      \"2019-03-20T21:45:00+00:00\",\n",
       "      \"2019-03-26T05:00:00+00:00\",\n",
       "      \"2019-03-23T14:45:00+00:00\",\n",
       "      \"2019-03-20T18:15:00+00:00\",\n",
       "      \"2019-03-23T17:15:00+00:00\",\n",
       "      \"2019-03-29T11:30:00+00:00\",\n",
       "      \"2019-03-24T21:30:00+00:00\",\n",
       "      \"2019-03-29T14:45:00+00:00\",\n",
       "      \"2015-01-27T21:00:00+00:00\",\n",
       "      \"2019-03-28T19:15:00+00:00\",\n",
       "      \"2019-03-19T03:15:00+00:00\",\n",
       "      \"2019-03-27T05:45:00+00:00\",\n",
       "      \"2019-03-24T06:15:00+00:00\",\n",
       "      \"2019-03-25T14:30:00+00:00\",\n",
       "      \"2019-03-29T22:15:00+00:00\",\n",
       "      \"2014-04-06T00:30:00+00:00\",\n",
       "      \"2019-03-26T19:30:00+00:00\",\n",
       "      \"2014-08-24T01:15:00+00:00\",\n",
       "      \"2019-03-29T10:00:00+00:00\"\n",
       "    ]\n",
       "  },\n",
       "  \"success\": false,\n",
       "  \"meta\": {}\n",
       "}"
      ]
     },
     "execution_count": 12,
     "metadata": {},
     "output_type": "execute_result"
    }
   ],
   "source": [
    "# Now let's run a real expectation:\n",
    "\n",
    "batch.expect_column_values_to_be_unique('trip_start_timestamp')"
   ]
  },
  {
   "cell_type": "code",
   "execution_count": 16,
   "metadata": {},
   "outputs": [],
   "source": [
    "# Surprising! NONE of the 190M trips had a unique start time??? That seems unlikely. Oh wait, the \n",
    "# data has been statisitically censored to five-minute increments. What a cool insight!\n",
    "\n",
    "# GE is actively expanding its vocabulary of expectations and we plan to build time-based expectations\n",
    "# that are able to capture insights like these."
   ]
  },
  {
   "cell_type": "code",
   "execution_count": 19,
   "metadata": {},
   "outputs": [
    {
     "data": {
      "text/plain": [
       "{\n",
       "  \"expectation_config\": null,\n",
       "  \"exception_info\": null,\n",
       "  \"result\": {\n",
       "    \"element_count\": 190955873,\n",
       "    \"missing_count\": 22814686,\n",
       "    \"missing_percent\": 11.947622056117646,\n",
       "    \"unexpected_count\": 0,\n",
       "    \"unexpected_percent\": 0.0,\n",
       "    \"unexpected_percent_nonmissing\": 0.0,\n",
       "    \"partial_unexpected_list\": []\n",
       "  },\n",
       "  \"success\": true,\n",
       "  \"meta\": {}\n",
       "}"
      ]
     },
     "execution_count": 19,
     "metadata": {},
     "output_type": "execute_result"
    }
   ],
   "source": [
    "# Well, at least we should believe that the rides happen in the Chicago environs...\n",
    "batch.expect_column_values_to_be_between(\"pickup_latitude\", 41.5, 42.1)"
   ]
  },
  {
   "cell_type": "code",
   "execution_count": 20,
   "metadata": {},
   "outputs": [
    {
     "data": {
      "text/plain": [
       "{\n",
       "  \"expectation_config\": null,\n",
       "  \"exception_info\": null,\n",
       "  \"result\": {\n",
       "    \"element_count\": 190955873,\n",
       "    \"missing_count\": 22814686,\n",
       "    \"missing_percent\": 11.947622056117646,\n",
       "    \"unexpected_count\": 0,\n",
       "    \"unexpected_percent\": 0.0,\n",
       "    \"unexpected_percent_nonmissing\": 0.0,\n",
       "    \"partial_unexpected_list\": []\n",
       "  },\n",
       "  \"success\": true,\n",
       "  \"meta\": {}\n",
       "}"
      ]
     },
     "execution_count": 20,
     "metadata": {},
     "output_type": "execute_result"
    }
   ],
   "source": [
    "batch.expect_column_values_to_be_between(\"pickup_longitude\", -88, -87.5)"
   ]
  },
  {
   "cell_type": "code",
   "execution_count": null,
   "metadata": {},
   "outputs": [],
   "source": [
    "# ... and so on"
   ]
  },
  {
   "cell_type": "code",
   "execution_count": 21,
   "metadata": {},
   "outputs": [],
   "source": [
    "# Let's save our new suite\n",
    "batch.save_expectation_suite()"
   ]
  },
  {
   "cell_type": "code",
   "execution_count": 22,
   "metadata": {},
   "outputs": [
    {
     "data": {
      "text/plain": [
       "{\n",
       "  \"expectation_suite_name\": \"chicago_taxi.warning\",\n",
       "  \"data_asset_type\": \"Dataset\",\n",
       "  \"expectations\": [\n",
       "    {\n",
       "      \"expectation_type\": \"expect_column_to_exist\",\n",
       "      \"meta\": {},\n",
       "      \"kwargs\": {\n",
       "        \"column\": \"trip_start_timestamp\"\n",
       "      }\n",
       "    },\n",
       "    {\n",
       "      \"expectation_type\": \"expect_column_values_to_be_between\",\n",
       "      \"meta\": {},\n",
       "      \"kwargs\": {\n",
       "        \"column\": \"pickup_latitude\",\n",
       "        \"min_value\": 41.5,\n",
       "        \"max_value\": 42.1\n",
       "      }\n",
       "    },\n",
       "    {\n",
       "      \"expectation_type\": \"expect_column_values_to_be_between\",\n",
       "      \"meta\": {},\n",
       "      \"kwargs\": {\n",
       "        \"column\": \"pickup_longitude\",\n",
       "        \"min_value\": -88,\n",
       "        \"max_value\": -87.5\n",
       "      }\n",
       "    }\n",
       "  ],\n",
       "  \"meta\": {\n",
       "    \"great_expectations.__version__\": \"0.9.0b1+236.ga5f5f293.dirty\"\n",
       "  }\n",
       "}"
      ]
     },
     "execution_count": 22,
     "metadata": {},
     "output_type": "execute_result"
    }
   ],
   "source": [
    "# Let's see what we've created\n",
    "context.get_expectation_suite(\"chicago_taxi.warning\")"
   ]
  },
  {
   "cell_type": "code",
   "execution_count": null,
   "metadata": {},
   "outputs": [],
   "source": [
    "# Note that we didn't save the (failed) expect_column_values_to_be_unique -- by default expectations that\n",
    "# are not true when created are not saved."
   ]
  }
 ],
 "metadata": {
  "kernelspec": {
   "display_name": "Python 3",
   "language": "python",
   "name": "python3"
  },
  "language_info": {
   "codemirror_mode": {
    "name": "ipython",
    "version": 3
   },
   "file_extension": ".py",
   "mimetype": "text/x-python",
   "name": "python",
   "nbconvert_exporter": "python",
   "pygments_lexer": "ipython3",
   "version": "3.6.9"
  }
 },
 "nbformat": 4,
 "nbformat_minor": 2
}
